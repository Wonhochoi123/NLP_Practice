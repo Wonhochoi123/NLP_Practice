{
  "nbformat": 4,
  "nbformat_minor": 0,
  "metadata": {
    "colab": {
      "name": "NLP practice.ipynb",
      "provenance": [],
      "authorship_tag": "ABX9TyOhgfFgtHy8YaLGePcB11NP",
      "include_colab_link": true
    },
    "kernelspec": {
      "name": "python3",
      "display_name": "Python 3"
    },
    "language_info": {
      "name": "python"
    }
  },
  "cells": [
    {
      "cell_type": "markdown",
      "metadata": {
        "id": "view-in-github",
        "colab_type": "text"
      },
      "source": [
        "<a href=\"https://colab.research.google.com/github/Wonhochoi123/NLP_Practice/blob/main/NLP_practice.ipynb\" target=\"_parent\"><img src=\"https://colab.research.google.com/assets/colab-badge.svg\" alt=\"Open In Colab\"/></a>"
      ]
    },
    {
      "cell_type": "code",
      "metadata": {
        "colab": {
          "base_uri": "https://localhost:8080/"
        },
        "id": "8EI99jyHYmJC",
        "outputId": "cbbee0dd-109d-4296-c58f-22e7e291701e"
      },
      "source": [
        "import pandas as pd\n",
        "\n",
        "filepath_dict = {'yelp':   '/content/yelp_labelled.txt',\n",
        "                 'amazon': '/content/amazon_cells_labelled.txt',\n",
        "                 'imdb':   '/content/imdb_labelled.txt'}\n",
        "df_list = []\n",
        "for source, filepath in filepath_dict.items():\n",
        "    df = pd.read_csv(filepath, names=['sentence', 'label'], sep='\\t')\n",
        "    df['source'] = source  # Add another column filled with the source name\n",
        "    df_list.append(df)\n",
        "\n",
        "df = pd.concat(df_list)\n",
        "print(df.iloc[0])"
      ],
      "execution_count": 1,
      "outputs": [
        {
          "output_type": "stream",
          "text": [
            "sentence    Wow... Loved this place.\n",
            "label                              1\n",
            "source                          yelp\n",
            "Name: 0, dtype: object\n"
          ],
          "name": "stdout"
        }
      ]
    },
    {
      "cell_type": "code",
      "metadata": {
        "colab": {
          "base_uri": "https://localhost:8080/",
          "height": 421
        },
        "id": "zmHnBQAyYvSm",
        "outputId": "0c9a99a7-2325-47b8-f4be-ea489f2c3add"
      },
      "source": [
        "df"
      ],
      "execution_count": 2,
      "outputs": [
        {
          "output_type": "execute_result",
          "data": {
            "text/html": [
              "<div>\n",
              "<style scoped>\n",
              "    .dataframe tbody tr th:only-of-type {\n",
              "        vertical-align: middle;\n",
              "    }\n",
              "\n",
              "    .dataframe tbody tr th {\n",
              "        vertical-align: top;\n",
              "    }\n",
              "\n",
              "    .dataframe thead th {\n",
              "        text-align: right;\n",
              "    }\n",
              "</style>\n",
              "<table border=\"1\" class=\"dataframe\">\n",
              "  <thead>\n",
              "    <tr style=\"text-align: right;\">\n",
              "      <th></th>\n",
              "      <th>sentence</th>\n",
              "      <th>label</th>\n",
              "      <th>source</th>\n",
              "    </tr>\n",
              "  </thead>\n",
              "  <tbody>\n",
              "    <tr>\n",
              "      <th>0</th>\n",
              "      <td>Wow... Loved this place.</td>\n",
              "      <td>1</td>\n",
              "      <td>yelp</td>\n",
              "    </tr>\n",
              "    <tr>\n",
              "      <th>1</th>\n",
              "      <td>Crust is not good.</td>\n",
              "      <td>0</td>\n",
              "      <td>yelp</td>\n",
              "    </tr>\n",
              "    <tr>\n",
              "      <th>2</th>\n",
              "      <td>Not tasty and the texture was just nasty.</td>\n",
              "      <td>0</td>\n",
              "      <td>yelp</td>\n",
              "    </tr>\n",
              "    <tr>\n",
              "      <th>3</th>\n",
              "      <td>Stopped by during the late May bank holiday of...</td>\n",
              "      <td>1</td>\n",
              "      <td>yelp</td>\n",
              "    </tr>\n",
              "    <tr>\n",
              "      <th>4</th>\n",
              "      <td>The selection on the menu was great and so wer...</td>\n",
              "      <td>1</td>\n",
              "      <td>yelp</td>\n",
              "    </tr>\n",
              "    <tr>\n",
              "      <th>...</th>\n",
              "      <td>...</td>\n",
              "      <td>...</td>\n",
              "      <td>...</td>\n",
              "    </tr>\n",
              "    <tr>\n",
              "      <th>743</th>\n",
              "      <td>I just got bored watching Jessice Lange take h...</td>\n",
              "      <td>0</td>\n",
              "      <td>imdb</td>\n",
              "    </tr>\n",
              "    <tr>\n",
              "      <th>744</th>\n",
              "      <td>Unfortunately, any virtue in this film's produ...</td>\n",
              "      <td>0</td>\n",
              "      <td>imdb</td>\n",
              "    </tr>\n",
              "    <tr>\n",
              "      <th>745</th>\n",
              "      <td>In a word, it is embarrassing.</td>\n",
              "      <td>0</td>\n",
              "      <td>imdb</td>\n",
              "    </tr>\n",
              "    <tr>\n",
              "      <th>746</th>\n",
              "      <td>Exceptionally bad!</td>\n",
              "      <td>0</td>\n",
              "      <td>imdb</td>\n",
              "    </tr>\n",
              "    <tr>\n",
              "      <th>747</th>\n",
              "      <td>All in all its an insult to one's intelligence...</td>\n",
              "      <td>0</td>\n",
              "      <td>imdb</td>\n",
              "    </tr>\n",
              "  </tbody>\n",
              "</table>\n",
              "<p>2748 rows × 3 columns</p>\n",
              "</div>"
            ],
            "text/plain": [
              "                                              sentence  label source\n",
              "0                             Wow... Loved this place.      1   yelp\n",
              "1                                   Crust is not good.      0   yelp\n",
              "2            Not tasty and the texture was just nasty.      0   yelp\n",
              "3    Stopped by during the late May bank holiday of...      1   yelp\n",
              "4    The selection on the menu was great and so wer...      1   yelp\n",
              "..                                                 ...    ...    ...\n",
              "743  I just got bored watching Jessice Lange take h...      0   imdb\n",
              "744  Unfortunately, any virtue in this film's produ...      0   imdb\n",
              "745                   In a word, it is embarrassing.        0   imdb\n",
              "746                               Exceptionally bad!        0   imdb\n",
              "747  All in all its an insult to one's intelligence...      0   imdb\n",
              "\n",
              "[2748 rows x 3 columns]"
            ]
          },
          "metadata": {
            "tags": []
          },
          "execution_count": 2
        }
      ]
    },
    {
      "cell_type": "code",
      "metadata": {
        "id": "HIvsjhb7ZfyM"
      },
      "source": [
        "sentences = ['John likes ice cream', 'John hates chocolate.']"
      ],
      "execution_count": 3,
      "outputs": []
    },
    {
      "cell_type": "code",
      "metadata": {
        "colab": {
          "base_uri": "https://localhost:8080/"
        },
        "id": "EH3GpWCOae78",
        "outputId": "0fb0c4c1-6383-407c-9cec-8d1256f20a04"
      },
      "source": [
        "from sklearn.feature_extraction.text import CountVectorizer\n",
        "\n",
        "vectorizer = CountVectorizer(min_df=0, lowercase=False)\n",
        "vectorizer.fit(sentences)\n",
        "vectorizer.vocabulary_"
      ],
      "execution_count": 4,
      "outputs": [
        {
          "output_type": "execute_result",
          "data": {
            "text/plain": [
              "{'John': 0, 'chocolate': 1, 'cream': 2, 'hates': 3, 'ice': 4, 'likes': 5}"
            ]
          },
          "metadata": {
            "tags": []
          },
          "execution_count": 4
        }
      ]
    },
    {
      "cell_type": "code",
      "metadata": {
        "colab": {
          "base_uri": "https://localhost:8080/"
        },
        "id": "v0gzUeMNalo8",
        "outputId": "45a0d5e0-40af-48bd-b0c4-02c93302cd12"
      },
      "source": [
        "vectorizer.transform(sentences).toarray()"
      ],
      "execution_count": 5,
      "outputs": [
        {
          "output_type": "execute_result",
          "data": {
            "text/plain": [
              "array([[1, 0, 1, 0, 1, 1],\n",
              "       [1, 1, 0, 1, 0, 0]])"
            ]
          },
          "metadata": {
            "tags": []
          },
          "execution_count": 5
        }
      ]
    },
    {
      "cell_type": "code",
      "metadata": {
        "id": "mSudPNFbb-NM"
      },
      "source": [
        "from sklearn.model_selection import train_test_split\n",
        "\n",
        "df_yelp = df[df['source'] == 'yelp']\n",
        "\n",
        "sentences = df_yelp['sentence'].values\n",
        "y = df_yelp['label'].values\n",
        "\n",
        "sentences_train, sentences_test, y_train, y_test = train_test_split(sentences, y, test_size=0.25, random_state=1000)"
      ],
      "execution_count": 6,
      "outputs": []
    },
    {
      "cell_type": "code",
      "metadata": {
        "colab": {
          "base_uri": "https://localhost:8080/"
        },
        "id": "inT8Bf1EuJ7K",
        "outputId": "95847cb5-feba-4c22-f220-530383313367"
      },
      "source": [
        "from sklearn.feature_extraction.text import CountVectorizer\n",
        "\n",
        "vectorizer = CountVectorizer()\n",
        "vectorizer.fit(sentences_train)\n",
        "\n",
        "X_train = vectorizer.transform(sentences_train)\n",
        "X_test  = vectorizer.transform(sentences_test)\n",
        "X_train"
      ],
      "execution_count": 7,
      "outputs": [
        {
          "output_type": "execute_result",
          "data": {
            "text/plain": [
              "<750x1714 sparse matrix of type '<class 'numpy.int64'>'\n",
              "\twith 7368 stored elements in Compressed Sparse Row format>"
            ]
          },
          "metadata": {
            "tags": []
          },
          "execution_count": 7
        }
      ]
    },
    {
      "cell_type": "code",
      "metadata": {
        "colab": {
          "base_uri": "https://localhost:8080/"
        },
        "id": "4SKgIUscuUpS",
        "outputId": "0abd96af-6db5-419f-fe18-ecd3985186c4"
      },
      "source": [
        "from sklearn.linear_model import LogisticRegression\n",
        "\n",
        "classifier = LogisticRegression()\n",
        "classifier.fit(X_train, y_train)\n",
        "score = classifier.score(X_test, y_test)\n",
        "\n",
        "print(\"Accuracy:\", score)"
      ],
      "execution_count": 8,
      "outputs": [
        {
          "output_type": "stream",
          "text": [
            "Accuracy: 0.796\n"
          ],
          "name": "stdout"
        }
      ]
    },
    {
      "cell_type": "code",
      "metadata": {
        "colab": {
          "base_uri": "https://localhost:8080/"
        },
        "id": "8aIukYs6uXKj",
        "outputId": "1f16dc4b-269a-4690-daa3-986871b21c57"
      },
      "source": [
        "for source in df['source'].unique():\n",
        "    df_source = df[df['source'] == source]\n",
        "    sentences = df_source['sentence'].values\n",
        "    y = df_source['label'].values\n",
        "\n",
        "    sentences_train, sentences_test, y_train, y_test = train_test_split(\n",
        "        sentences, y, test_size=0.25, random_state=1000)\n",
        "\n",
        "    vectorizer = CountVectorizer()\n",
        "    vectorizer.fit(sentences_train)\n",
        "    X_train = vectorizer.transform(sentences_train)\n",
        "    X_test  = vectorizer.transform(sentences_test)\n",
        "\n",
        "    classifier = LogisticRegression()\n",
        "    classifier.fit(X_train, y_train)\n",
        "    score = classifier.score(X_test, y_test)\n",
        "    print('Accuracy for {} data: {:.4f}'.format(source, score))"
      ],
      "execution_count": 9,
      "outputs": [
        {
          "output_type": "stream",
          "text": [
            "Accuracy for yelp data: 0.7960\n",
            "Accuracy for amazon data: 0.7960\n",
            "Accuracy for imdb data: 0.7487\n"
          ],
          "name": "stdout"
        }
      ]
    },
    {
      "cell_type": "code",
      "metadata": {
        "colab": {
          "base_uri": "https://localhost:8080/"
        },
        "id": "iOATFRM4yxJc",
        "outputId": "3bf1de78-920f-4a8a-b252-12a066265b4a"
      },
      "source": [
        "! pip install keras\n"
      ],
      "execution_count": 10,
      "outputs": [
        {
          "output_type": "stream",
          "text": [
            "Requirement already satisfied: keras in /usr/local/lib/python3.7/dist-packages (2.4.3)\n",
            "Requirement already satisfied: pyyaml in /usr/local/lib/python3.7/dist-packages (from keras) (3.13)\n",
            "Requirement already satisfied: h5py in /usr/local/lib/python3.7/dist-packages (from keras) (3.1.0)\n",
            "Requirement already satisfied: scipy>=0.14 in /usr/local/lib/python3.7/dist-packages (from keras) (1.4.1)\n",
            "Requirement already satisfied: numpy>=1.9.1 in /usr/local/lib/python3.7/dist-packages (from keras) (1.19.5)\n",
            "Requirement already satisfied: cached-property in /usr/local/lib/python3.7/dist-packages (from h5py->keras) (1.5.2)\n"
          ],
          "name": "stdout"
        }
      ]
    },
    {
      "cell_type": "code",
      "metadata": {
        "id": "0q3_yEwX9_Yg"
      },
      "source": [
        "from keras.models import Sequential\n",
        "from keras import layers\n",
        "\n",
        "input_dim = X_train.shape[1]  # Number of features\n",
        "\n",
        "model = Sequential()\n",
        "model.add(layers.Dense(10, input_dim=input_dim, activation='relu'))\n",
        "model.add(layers.Dense(1, activation='sigmoid'))"
      ],
      "execution_count": 11,
      "outputs": []
    },
    {
      "cell_type": "code",
      "metadata": {
        "colab": {
          "base_uri": "https://localhost:8080/"
        },
        "id": "kbcGbC7c-Koi",
        "outputId": "12a0801e-4793-4237-a71b-a711aa2a28c7"
      },
      "source": [
        "model.compile(loss='binary_crossentropy', \n",
        "              optimizer='adam', \n",
        "             metrics=['accuracy'])\n",
        "model.summary()"
      ],
      "execution_count": 12,
      "outputs": [
        {
          "output_type": "stream",
          "text": [
            "Model: \"sequential\"\n",
            "_________________________________________________________________\n",
            "Layer (type)                 Output Shape              Param #   \n",
            "=================================================================\n",
            "dense (Dense)                (None, 10)                25060     \n",
            "_________________________________________________________________\n",
            "dense_1 (Dense)              (None, 1)                 11        \n",
            "=================================================================\n",
            "Total params: 25,071\n",
            "Trainable params: 25,071\n",
            "Non-trainable params: 0\n",
            "_________________________________________________________________\n"
          ],
          "name": "stdout"
        }
      ]
    },
    {
      "cell_type": "code",
      "metadata": {
        "colab": {
          "base_uri": "https://localhost:8080/"
        },
        "id": "zasUZZ1T-QJ7",
        "outputId": "93c50af3-46da-4acd-f825-06b41d42765c"
      },
      "source": [
        "history = model.fit(X_train, y_train,\n",
        "                     epochs=100,\n",
        "                     verbose=False,\n",
        "                     validation_data=(X_test, y_test)\n",
        "                     , batch_size=10)"
      ],
      "execution_count": 13,
      "outputs": [
        {
          "output_type": "stream",
          "text": [
            "/usr/local/lib/python3.7/dist-packages/tensorflow/python/framework/indexed_slices.py:449: UserWarning: Converting sparse IndexedSlices(IndexedSlices(indices=Tensor(\"gradient_tape/sequential/dense/embedding_lookup_sparse/Reshape_1:0\", shape=(None,), dtype=int32), values=Tensor(\"gradient_tape/sequential/dense/embedding_lookup_sparse/Reshape:0\", shape=(None, 10), dtype=float32), dense_shape=Tensor(\"gradient_tape/sequential/dense/embedding_lookup_sparse/Cast:0\", shape=(2,), dtype=int32))) to a dense Tensor of unknown shape. This may consume a large amount of memory.\n",
            "  \"shape. This may consume a large amount of memory.\" % value)\n"
          ],
          "name": "stderr"
        }
      ]
    },
    {
      "cell_type": "code",
      "metadata": {
        "id": "k3-hN_OS-T_8"
      },
      "source": [
        "from keras.backend import clear_session\n",
        "clear_session()"
      ],
      "execution_count": 14,
      "outputs": []
    },
    {
      "cell_type": "code",
      "metadata": {
        "colab": {
          "base_uri": "https://localhost:8080/"
        },
        "id": "beXpefoscSZ0",
        "outputId": "ce596ed1-71cf-4beb-aff0-4c2d8b003c78"
      },
      "source": [
        "loss, accuracy = model.evaluate(X_train, y_train, verbose=False)\n",
        "print(\"Training Accuracy: {:.4f}\".format(accuracy))\n",
        "loss, accuracy = model.evaluate(X_test, y_test, verbose=False)\n",
        "print(\"Testing Accuracy:  {:.4f}\".format(accuracy))"
      ],
      "execution_count": 15,
      "outputs": [
        {
          "output_type": "stream",
          "text": [
            "Training Accuracy: 1.0000\n",
            "Testing Accuracy:  0.7968\n"
          ],
          "name": "stdout"
        }
      ]
    },
    {
      "cell_type": "code",
      "metadata": {
        "colab": {
          "base_uri": "https://localhost:8080/"
        },
        "id": "8uMFNBAycuNL",
        "outputId": "bcf8da59-596c-4f76-c59c-aac90dcb91ba"
      },
      "source": [
        "history.history"
      ],
      "execution_count": 16,
      "outputs": [
        {
          "output_type": "execute_result",
          "data": {
            "text/plain": [
              "{'accuracy': [0.5204991102218628,\n",
              "  0.7397504448890686,\n",
              "  0.8253119587898254,\n",
              "  0.9055258631706238,\n",
              "  0.9465240836143494,\n",
              "  0.9714794754981995,\n",
              "  0.9803921580314636,\n",
              "  0.987522304058075,\n",
              "  0.9893048405647278,\n",
              "  0.9928698539733887,\n",
              "  0.9964349269866943,\n",
              "  0.9982174634933472,\n",
              "  0.9982174634933472,\n",
              "  0.9982174634933472,\n",
              "  0.9982174634933472,\n",
              "  0.9982174634933472,\n",
              "  0.9982174634933472,\n",
              "  0.9982174634933472,\n",
              "  0.9982174634933472,\n",
              "  0.9982174634933472,\n",
              "  0.9982174634933472,\n",
              "  0.9982174634933472,\n",
              "  0.9982174634933472,\n",
              "  0.9982174634933472,\n",
              "  0.9982174634933472,\n",
              "  0.9982174634933472,\n",
              "  0.9982174634933472,\n",
              "  0.9982174634933472,\n",
              "  0.9982174634933472,\n",
              "  0.9982174634933472,\n",
              "  0.9982174634933472,\n",
              "  0.9982174634933472,\n",
              "  0.9982174634933472,\n",
              "  0.9982174634933472,\n",
              "  0.9982174634933472,\n",
              "  0.9982174634933472,\n",
              "  0.9982174634933472,\n",
              "  0.9982174634933472,\n",
              "  0.9982174634933472,\n",
              "  0.9982174634933472,\n",
              "  0.9982174634933472,\n",
              "  0.9982174634933472,\n",
              "  0.9982174634933472,\n",
              "  0.9982174634933472,\n",
              "  0.9982174634933472,\n",
              "  0.9982174634933472,\n",
              "  0.9982174634933472,\n",
              "  0.9982174634933472,\n",
              "  0.9982174634933472,\n",
              "  0.9982174634933472,\n",
              "  0.9982174634933472,\n",
              "  0.9982174634933472,\n",
              "  0.9982174634933472,\n",
              "  0.9982174634933472,\n",
              "  0.9982174634933472,\n",
              "  0.9982174634933472,\n",
              "  0.9982174634933472,\n",
              "  0.9982174634933472,\n",
              "  0.9982174634933472,\n",
              "  0.9982174634933472,\n",
              "  0.9982174634933472,\n",
              "  0.9982174634933472,\n",
              "  0.9982174634933472,\n",
              "  0.9982174634933472,\n",
              "  0.9982174634933472,\n",
              "  0.9982174634933472,\n",
              "  0.9982174634933472,\n",
              "  1.0,\n",
              "  1.0,\n",
              "  1.0,\n",
              "  1.0,\n",
              "  1.0,\n",
              "  1.0,\n",
              "  1.0,\n",
              "  1.0,\n",
              "  1.0,\n",
              "  1.0,\n",
              "  1.0,\n",
              "  1.0,\n",
              "  1.0,\n",
              "  1.0,\n",
              "  1.0,\n",
              "  1.0,\n",
              "  1.0,\n",
              "  1.0,\n",
              "  1.0,\n",
              "  1.0,\n",
              "  1.0,\n",
              "  1.0,\n",
              "  1.0,\n",
              "  1.0,\n",
              "  1.0,\n",
              "  1.0,\n",
              "  1.0,\n",
              "  1.0,\n",
              "  1.0,\n",
              "  1.0,\n",
              "  1.0,\n",
              "  1.0,\n",
              "  1.0],\n",
              " 'loss': [0.6942800283432007,\n",
              "  0.6428244709968567,\n",
              "  0.5777077674865723,\n",
              "  0.4885220229625702,\n",
              "  0.390145868062973,\n",
              "  0.30780401825904846,\n",
              "  0.24510633945465088,\n",
              "  0.1977929174900055,\n",
              "  0.1625317484140396,\n",
              "  0.13604460656642914,\n",
              "  0.11485450714826584,\n",
              "  0.09823283553123474,\n",
              "  0.08467971533536911,\n",
              "  0.07381344586610794,\n",
              "  0.06456740945577621,\n",
              "  0.057166170328855515,\n",
              "  0.050854720175266266,\n",
              "  0.04549494758248329,\n",
              "  0.040876034647226334,\n",
              "  0.03703966364264488,\n",
              "  0.03356420248746872,\n",
              "  0.03061757981777191,\n",
              "  0.027981672435998917,\n",
              "  0.02569214627146721,\n",
              "  0.02355925738811493,\n",
              "  0.02165853977203369,\n",
              "  0.020039938390254974,\n",
              "  0.018487025052309036,\n",
              "  0.017115231603384018,\n",
              "  0.015994923189282417,\n",
              "  0.014842087402939796,\n",
              "  0.013846210204064846,\n",
              "  0.01292272936552763,\n",
              "  0.012064725160598755,\n",
              "  0.011324585415422916,\n",
              "  0.01063687913119793,\n",
              "  0.009993395768105984,\n",
              "  0.009448806755244732,\n",
              "  0.008928935043513775,\n",
              "  0.008440826088190079,\n",
              "  0.00801101978868246,\n",
              "  0.0076041375286877155,\n",
              "  0.007232106756418943,\n",
              "  0.006899056490510702,\n",
              "  0.006561854388564825,\n",
              "  0.006275549065321684,\n",
              "  0.005971621256321669,\n",
              "  0.005736115854233503,\n",
              "  0.005491024348884821,\n",
              "  0.0052706655114889145,\n",
              "  0.005038399249315262,\n",
              "  0.004839490167796612,\n",
              "  0.004665273707360029,\n",
              "  0.004490531515330076,\n",
              "  0.0043230508454144,\n",
              "  0.00417496869340539,\n",
              "  0.004028294235467911,\n",
              "  0.003903905861079693,\n",
              "  0.0037750760093331337,\n",
              "  0.0036615929566323757,\n",
              "  0.0035440900828689337,\n",
              "  0.0034363530576229095,\n",
              "  0.003324587596580386,\n",
              "  0.0032477977219969034,\n",
              "  0.003149627009406686,\n",
              "  0.003072083927690983,\n",
              "  0.0029856425244361162,\n",
              "  0.0029109858442097902,\n",
              "  0.0028294671792536974,\n",
              "  0.0027649374678730965,\n",
              "  0.0026871252339333296,\n",
              "  0.0026222183369100094,\n",
              "  0.002568746218457818,\n",
              "  0.002522262977436185,\n",
              "  0.002458336763083935,\n",
              "  0.0024001833517104387,\n",
              "  0.0023598172701895237,\n",
              "  0.0023084101267158985,\n",
              "  0.0022692582570016384,\n",
              "  0.0022174371406435966,\n",
              "  0.002171305939555168,\n",
              "  0.0021313768811523914,\n",
              "  0.0020889437291771173,\n",
              "  0.0020497445948421955,\n",
              "  0.0020115182269364595,\n",
              "  0.001992178848013282,\n",
              "  0.0019565147813409567,\n",
              "  0.001924788928590715,\n",
              "  0.001891148742288351,\n",
              "  0.0018651466816663742,\n",
              "  0.0018304985715076327,\n",
              "  0.0018080812878906727,\n",
              "  0.0017772915307432413,\n",
              "  0.0017545034643262625,\n",
              "  0.0017296080477535725,\n",
              "  0.0017034378834068775,\n",
              "  0.0016782578313723207,\n",
              "  0.0016536419279873371,\n",
              "  0.0016307434998452663,\n",
              "  0.001608891412615776],\n",
              " 'val_accuracy': [0.5401069521903992,\n",
              "  0.5989304780960083,\n",
              "  0.7112299203872681,\n",
              "  0.7486631274223328,\n",
              "  0.7647058963775635,\n",
              "  0.7540106773376465,\n",
              "  0.7807486653327942,\n",
              "  0.7914438247680664,\n",
              "  0.8074866533279419,\n",
              "  0.7914438247680664,\n",
              "  0.8181818127632141,\n",
              "  0.8128342032432556,\n",
              "  0.8181818127632141,\n",
              "  0.8181818127632141,\n",
              "  0.8128342032432556,\n",
              "  0.8021390438079834,\n",
              "  0.7967914342880249,\n",
              "  0.7967914342880249,\n",
              "  0.7914438247680664,\n",
              "  0.7967914342880249,\n",
              "  0.7914438247680664,\n",
              "  0.7914438247680664,\n",
              "  0.7860962748527527,\n",
              "  0.7860962748527527,\n",
              "  0.7860962748527527,\n",
              "  0.7860962748527527,\n",
              "  0.7860962748527527,\n",
              "  0.7860962748527527,\n",
              "  0.7807486653327942,\n",
              "  0.7807486653327942,\n",
              "  0.7807486653327942,\n",
              "  0.7807486653327942,\n",
              "  0.7807486653327942,\n",
              "  0.7807486653327942,\n",
              "  0.7807486653327942,\n",
              "  0.7807486653327942,\n",
              "  0.7754010558128357,\n",
              "  0.7754010558128357,\n",
              "  0.7860962748527527,\n",
              "  0.7860962748527527,\n",
              "  0.7914438247680664,\n",
              "  0.7914438247680664,\n",
              "  0.7914438247680664,\n",
              "  0.7860962748527527,\n",
              "  0.7914438247680664,\n",
              "  0.7860962748527527,\n",
              "  0.7914438247680664,\n",
              "  0.7914438247680664,\n",
              "  0.7860962748527527,\n",
              "  0.7967914342880249,\n",
              "  0.7967914342880249,\n",
              "  0.7967914342880249,\n",
              "  0.8021390438079834,\n",
              "  0.8021390438079834,\n",
              "  0.7914438247680664,\n",
              "  0.7967914342880249,\n",
              "  0.7967914342880249,\n",
              "  0.7967914342880249,\n",
              "  0.7967914342880249,\n",
              "  0.7914438247680664,\n",
              "  0.7914438247680664,\n",
              "  0.7914438247680664,\n",
              "  0.7914438247680664,\n",
              "  0.7914438247680664,\n",
              "  0.7914438247680664,\n",
              "  0.7914438247680664,\n",
              "  0.7967914342880249,\n",
              "  0.7967914342880249,\n",
              "  0.7967914342880249,\n",
              "  0.7967914342880249,\n",
              "  0.7967914342880249,\n",
              "  0.7967914342880249,\n",
              "  0.7967914342880249,\n",
              "  0.7967914342880249,\n",
              "  0.7967914342880249,\n",
              "  0.7914438247680664,\n",
              "  0.7914438247680664,\n",
              "  0.7967914342880249,\n",
              "  0.7967914342880249,\n",
              "  0.7967914342880249,\n",
              "  0.7967914342880249,\n",
              "  0.7914438247680664,\n",
              "  0.7914438247680664,\n",
              "  0.7967914342880249,\n",
              "  0.7914438247680664,\n",
              "  0.7967914342880249,\n",
              "  0.7967914342880249,\n",
              "  0.7967914342880249,\n",
              "  0.7914438247680664,\n",
              "  0.7967914342880249,\n",
              "  0.7914438247680664,\n",
              "  0.7967914342880249,\n",
              "  0.7967914342880249,\n",
              "  0.7967914342880249,\n",
              "  0.7967914342880249,\n",
              "  0.7967914342880249,\n",
              "  0.7967914342880249,\n",
              "  0.7967914342880249,\n",
              "  0.7967914342880249,\n",
              "  0.7967914342880249],\n",
              " 'val_loss': [0.7026914954185486,\n",
              "  0.6783831715583801,\n",
              "  0.6655846834182739,\n",
              "  0.5994923710823059,\n",
              "  0.5740414261817932,\n",
              "  0.5632687211036682,\n",
              "  0.5231196284294128,\n",
              "  0.4998096227645874,\n",
              "  0.5008041262626648,\n",
              "  0.521948516368866,\n",
              "  0.5001105666160583,\n",
              "  0.5139452219009399,\n",
              "  0.48909899592399597,\n",
              "  0.49527430534362793,\n",
              "  0.5017595887184143,\n",
              "  0.5160792469978333,\n",
              "  0.5284620523452759,\n",
              "  0.5162155628204346,\n",
              "  0.5327152013778687,\n",
              "  0.5184605121612549,\n",
              "  0.5570878982543945,\n",
              "  0.5458017587661743,\n",
              "  0.5474637150764465,\n",
              "  0.5444394946098328,\n",
              "  0.5527436137199402,\n",
              "  0.5570487976074219,\n",
              "  0.557837188243866,\n",
              "  0.5814641118049622,\n",
              "  0.57059246301651,\n",
              "  0.5474010109901428,\n",
              "  0.5784679651260376,\n",
              "  0.5852202773094177,\n",
              "  0.5961160659790039,\n",
              "  0.5944685339927673,\n",
              "  0.6075090169906616,\n",
              "  0.6208836436271667,\n",
              "  0.6282106041908264,\n",
              "  0.6308221817016602,\n",
              "  0.6320981383323669,\n",
              "  0.6395825147628784,\n",
              "  0.6434224843978882,\n",
              "  0.6411291360855103,\n",
              "  0.6464083194732666,\n",
              "  0.651549220085144,\n",
              "  0.6582812070846558,\n",
              "  0.668196976184845,\n",
              "  0.6642851829528809,\n",
              "  0.6819308400154114,\n",
              "  0.6845856308937073,\n",
              "  0.6826074123382568,\n",
              "  0.7063775658607483,\n",
              "  0.7132157683372498,\n",
              "  0.7127183675765991,\n",
              "  0.7129359245300293,\n",
              "  0.7238983511924744,\n",
              "  0.7204748392105103,\n",
              "  0.733808159828186,\n",
              "  0.7330726385116577,\n",
              "  0.7391753792762756,\n",
              "  0.733797550201416,\n",
              "  0.7430285811424255,\n",
              "  0.7461098432540894,\n",
              "  0.7497784495353699,\n",
              "  0.7536913752555847,\n",
              "  0.7610439658164978,\n",
              "  0.7590667605400085,\n",
              "  0.7743131518363953,\n",
              "  0.7741931080818176,\n",
              "  0.7719900608062744,\n",
              "  0.7741003036499023,\n",
              "  0.7705767750740051,\n",
              "  0.7778424024581909,\n",
              "  0.7824187874794006,\n",
              "  0.7880684733390808,\n",
              "  0.78691565990448,\n",
              "  0.7789984941482544,\n",
              "  0.7900941967964172,\n",
              "  0.7993984818458557,\n",
              "  0.8030589818954468,\n",
              "  0.7994337677955627,\n",
              "  0.806126058101654,\n",
              "  0.8088008165359497,\n",
              "  0.8153250813484192,\n",
              "  0.8186407089233398,\n",
              "  0.8204690217971802,\n",
              "  0.8269532322883606,\n",
              "  0.833922266960144,\n",
              "  0.8366590738296509,\n",
              "  0.8273782730102539,\n",
              "  0.8043849468231201,\n",
              "  0.8200624585151672,\n",
              "  0.833916187286377,\n",
              "  0.8414876461029053,\n",
              "  0.8488167524337769,\n",
              "  0.8520013093948364,\n",
              "  0.8550218939781189,\n",
              "  0.8614577651023865,\n",
              "  0.8534517884254456,\n",
              "  0.8557511568069458,\n",
              "  0.8609923720359802]}"
            ]
          },
          "metadata": {
            "tags": []
          },
          "execution_count": 16
        }
      ]
    },
    {
      "cell_type": "code",
      "metadata": {
        "id": "5SDS6uLHcf89"
      },
      "source": [
        "import matplotlib.pyplot as plt\n",
        "plt.style.use('ggplot')\n",
        "\n",
        "def plot_history(history):\n",
        "    acc = history.history['accuracy']\n",
        "    val_acc = history.history['val_accuracy']\n",
        "    loss = history.history['loss']\n",
        "    val_loss = history.history['val_loss']\n",
        "    x = range(1, len(acc) + 1)\n",
        "\n",
        "    plt.figure(figsize=(12, 5))\n",
        "    plt.subplot(1, 2, 1)\n",
        "    plt.plot(x, acc, 'b', label='Training acc')\n",
        "    plt.plot(x, val_acc, 'r', label='Validation acc')\n",
        "    plt.title('Training and validation accuracy')\n",
        "    plt.legend()\n",
        "    plt.subplot(1, 2, 2)\n",
        "    plt.plot(x, loss, 'b', label='Training loss')\n",
        "    plt.plot(x, val_loss, 'r', label='Validation loss')\n",
        "    plt.title('Training and validation loss')\n",
        "    plt.legend()"
      ],
      "execution_count": 17,
      "outputs": []
    },
    {
      "cell_type": "code",
      "metadata": {
        "colab": {
          "base_uri": "https://localhost:8080/",
          "height": 337
        },
        "id": "BYs2p4sHcjpV",
        "outputId": "a5d5523c-325a-4f4d-98e5-323f57d7e2c8"
      },
      "source": [
        "plot_history(history)\n"
      ],
      "execution_count": 18,
      "outputs": [
        {
          "output_type": "display_data",
          "data": {
            "image/png": "[encoded data removed]",
            "text/plain": [
              "<Figure size 864x360 with 2 Axes>"
            ]
          },
          "metadata": {
            "tags": []
          }
        }
      ]
    },
    {
      "cell_type": "code",
      "metadata": {
        "id": "CsY2dY0HBovD"
      },
      "source": [
        ""
      ],
      "execution_count": null,
      "outputs": []
    },
    {
      "cell_type": "code",
      "metadata": {
        "id": "q1P01rxQBozl"
      },
      "source": [
        ""
      ],
      "execution_count": null,
      "outputs": []
    },
    {
      "cell_type": "code",
      "metadata": {
        "id": "8pKEwaJ5Bo2F"
      },
      "source": [
        ""
      ],
      "execution_count": null,
      "outputs": []
    },
    {
      "cell_type": "code",
      "metadata": {
        "colab": {
          "base_uri": "https://localhost:8080/"
        },
        "id": "pMg5O6CzBo4j",
        "outputId": "d172357d-0a37-456c-9776-0054fcb6b81f"
      },
      "source": [
        "cities = ['London', 'Berlin', 'Berlin', 'New York', 'London']\n",
        "cities\n",
        "['London', 'Berlin', 'Berlin', 'New York', 'London']"
      ],
      "execution_count": 20,
      "outputs": [
        {
          "output_type": "execute_result",
          "data": {
            "text/plain": [
              "['London', 'Berlin', 'Berlin', 'New York', 'London']"
            ]
          },
          "metadata": {
            "tags": []
          },
          "execution_count": 20
        }
      ]
    },
    {
      "cell_type": "code",
      "metadata": {
        "colab": {
          "base_uri": "https://localhost:8080/"
        },
        "id": "JR8h4yqCcl0d",
        "outputId": "16073c35-3dc4-438b-d74f-6466cb7b0eda"
      },
      "source": [
        "from sklearn.preprocessing import LabelEncoder\n",
        "\n",
        "encoder = LabelEncoder()\n",
        "city_labels = encoder.fit_transform(cities)\n",
        "city_labels"
      ],
      "execution_count": 21,
      "outputs": [
        {
          "output_type": "execute_result",
          "data": {
            "text/plain": [
              "array([1, 0, 0, 2, 1])"
            ]
          },
          "metadata": {
            "tags": []
          },
          "execution_count": 21
        }
      ]
    },
    {
      "cell_type": "code",
      "metadata": {
        "colab": {
          "base_uri": "https://localhost:8080/"
        },
        "id": "-033lxGEB6Ud",
        "outputId": "f0fd3631-d0a8-4abd-e82f-dbbdfcfb8ba3"
      },
      "source": [
        "from sklearn.preprocessing import OneHotEncoder\n",
        "\n",
        "encoder = OneHotEncoder(sparse=False)\n",
        "city_labels = city_labels.reshape((5, 1))\n",
        "encoder.fit_transform(city_labels)"
      ],
      "execution_count": 22,
      "outputs": [
        {
          "output_type": "execute_result",
          "data": {
            "text/plain": [
              "array([[0., 1., 0.],\n",
              "       [1., 0., 0.],\n",
              "       [1., 0., 0.],\n",
              "       [0., 0., 1.],\n",
              "       [0., 1., 0.]])"
            ]
          },
          "metadata": {
            "tags": []
          },
          "execution_count": 22
        }
      ]
    },
    {
      "cell_type": "code",
      "metadata": {
        "colab": {
          "base_uri": "https://localhost:8080/"
        },
        "id": "itB3wvvAB_Hn",
        "outputId": "48e2d824-6e81-4eea-f2a6-1f0b76eec6b9"
      },
      "source": [
        "from keras.preprocessing.text import Tokenizer\n",
        "\n",
        "tokenizer = Tokenizer(num_words=5000)\n",
        "tokenizer.fit_on_texts(sentences_train)\n",
        "\n",
        "X_train = tokenizer.texts_to_sequences(sentences_train)\n",
        "X_test = tokenizer.texts_to_sequences(sentences_test)\n",
        "\n",
        "vocab_size = len(tokenizer.word_index) + 1  # Adding 1 because of reserved 0 index\n",
        "\n",
        "print(sentences_train[2])\n",
        "print(X_train[2])"
      ],
      "execution_count": 23,
      "outputs": [
        {
          "output_type": "stream",
          "text": [
            "I am a fan of his ... This movie sucked really bad.  \n",
            "[7, 150, 2, 932, 4, 49, 6, 11, 563, 45, 30]\n"
          ],
          "name": "stdout"
        }
      ]
    },
    {
      "cell_type": "code",
      "metadata": {
        "id": "BHPxTANtCGLQ"
      },
      "source": [
        ""
      ],
      "execution_count": 34,
      "outputs": []
    },
    {
      "cell_type": "code",
      "metadata": {
        "colab": {
          "base_uri": "https://localhost:8080/"
        },
        "id": "CmPTHzbnCP-0",
        "outputId": "bad4b9db-2bb7-476c-f2f0-9b4c771ebc0e"
      },
      "source": [
        "for word in ['the', 'all', 'good', 'bad']:\n",
        "...     print('{}: {}'.format(word, tokenizer.word_index[word]))"
      ],
      "execution_count": 35,
      "outputs": [
        {
          "output_type": "stream",
          "text": [
            "the: 1\n",
            "all: 27\n",
            "good: 33\n",
            "bad: 30\n"
          ],
          "name": "stdout"
        }
      ]
    },
    {
      "cell_type": "code",
      "metadata": {
        "id": "N-y02FwsDG6s"
      },
      "source": [
        "from keras.preprocessing.sequence import pad_sequences\n",
        "\n",
        "maxlen = 100\n",
        "\n",
        "X_train = pad_sequences(X_train, padding='post', maxlen=maxlen)\n",
        "X_test = pad_sequences(X_test, padding='post', maxlen=maxlen)"
      ],
      "execution_count": 36,
      "outputs": []
    },
    {
      "cell_type": "code",
      "metadata": {
        "colab": {
          "base_uri": "https://localhost:8080/"
        },
        "id": "l08t0LmKDNhL",
        "outputId": "b357320b-dcc2-4bc9-cadf-a934f0b3e15c"
      },
      "source": [
        "print(X_train[0, :])"
      ],
      "execution_count": 37,
      "outputs": [
        {
          "output_type": "stream",
          "text": [
            "[170 116 390  35   0   0   0   0   0   0   0   0   0   0   0   0   0   0\n",
            "   0   0   0   0   0   0   0   0   0   0   0   0   0   0   0   0   0   0\n",
            "   0   0   0   0   0   0   0   0   0   0   0   0   0   0   0   0   0   0\n",
            "   0   0   0   0   0   0   0   0   0   0   0   0   0   0   0   0   0   0\n",
            "   0   0   0   0   0   0   0   0   0   0   0   0   0   0   0   0   0   0\n",
            "   0   0   0   0   0   0   0   0   0   0]\n"
          ],
          "name": "stdout"
        }
      ]
    },
    {
      "cell_type": "code",
      "metadata": {
        "colab": {
          "base_uri": "https://localhost:8080/"
        },
        "id": "vMlLZVTpDPac",
        "outputId": "b6cac2c0-08a9-4f83-ff66-af489cd7047a"
      },
      "source": [
        "from keras.models import Sequential\n",
        "from keras import layers\n",
        "\n",
        "embedding_dim = 50\n",
        "\n",
        "model = Sequential()\n",
        "model.add(layers.Embedding(input_dim=vocab_size, \n",
        "                           output_dim=embedding_dim, \n",
        "                           input_length=maxlen))\n",
        "model.add(layers.Flatten())\n",
        "model.add(layers.Dense(10, activation='relu'))\n",
        "model.add(layers.Dense(1, activation='sigmoid'))\n",
        "model.compile(optimizer='adam',\n",
        "              loss='binary_crossentropy',\n",
        "              metrics=['accuracy'])\n",
        "model.summary()"
      ],
      "execution_count": 38,
      "outputs": [
        {
          "output_type": "stream",
          "text": [
            "Model: \"sequential\"\n",
            "_________________________________________________________________\n",
            "Layer (type)                 Output Shape              Param #   \n",
            "=================================================================\n",
            "embedding (Embedding)        (None, 100, 50)           128750    \n",
            "_________________________________________________________________\n",
            "flatten (Flatten)            (None, 5000)              0         \n",
            "_________________________________________________________________\n",
            "dense (Dense)                (None, 10)                50010     \n",
            "_________________________________________________________________\n",
            "dense_1 (Dense)              (None, 1)                 11        \n",
            "=================================================================\n",
            "Total params: 178,771\n",
            "Trainable params: 178,771\n",
            "Non-trainable params: 0\n",
            "_________________________________________________________________\n"
          ],
          "name": "stdout"
        }
      ]
    },
    {
      "cell_type": "code",
      "metadata": {
        "colab": {
          "base_uri": "https://localhost:8080/",
          "height": 372
        },
        "id": "vI1BpjQJDSGs",
        "outputId": "8bbe66b9-a1e8-4ca1-bdd4-2fb953cb3984"
      },
      "source": [
        "history = model.fit(X_train, y_train,\n",
        "                    epochs=20,\n",
        "                    verbose=False,\n",
        "                    validation_data=(X_test, y_test),\n",
        "                    batch_size=10)\n",
        "loss, accuracy = model.evaluate(X_train, y_train, verbose=False)\n",
        "print(\"Training Accuracy: {:.4f}\".format(accuracy))\n",
        "loss, accuracy = model.evaluate(X_test, y_test, verbose=False)\n",
        "print(\"Testing Accuracy:  {:.4f}\".format(accuracy))\n",
        "plot_history(history)"
      ],
      "execution_count": 39,
      "outputs": [
        {
          "output_type": "stream",
          "text": [
            "Training Accuracy: 1.0000\n",
            "Testing Accuracy:  0.6684\n"
          ],
          "name": "stdout"
        },
        {
          "output_type": "display_data",
          "data": {
            "image/png": "[encoded data removed]",
            "text/plain": [
              "<Figure size 864x360 with 2 Axes>"
            ]
          },
          "metadata": {
            "tags": []
          }
        }
      ]
    },
    {
      "cell_type": "code",
      "metadata": {
        "id": "e47n18F6DUgN"
      },
      "source": [
        ""
      ],
      "execution_count": 40,
      "outputs": []
    },
    {
      "cell_type": "code",
      "metadata": {
        "id": "M13Ihv0qEAXW"
      },
      "source": [
        ""
      ],
      "execution_count": null,
      "outputs": []
    },
    {
      "cell_type": "code",
      "metadata": {
        "id": "GlUXM-fREH-O"
      },
      "source": [
        ""
      ],
      "execution_count": null,
      "outputs": []
    },
    {
      "cell_type": "code",
      "metadata": {
        "id": "Qo--37g7EIAg"
      },
      "source": [
        ""
      ],
      "execution_count": null,
      "outputs": []
    },
    {
      "cell_type": "code",
      "metadata": {
        "id": "f482BliGEICf"
      },
      "source": [
        ""
      ],
      "execution_count": null,
      "outputs": []
    },
    {
      "cell_type": "code",
      "metadata": {
        "id": "ZsSUStaaEIEx"
      },
      "source": [
        ""
      ],
      "execution_count": null,
      "outputs": []
    },
    {
      "cell_type": "code",
      "metadata": {
        "colab": {
          "base_uri": "https://localhost:8080/"
        },
        "id": "h8FN8hocEIG2",
        "outputId": "2326784f-35b5-4713-af88-045bd1ba4a3d"
      },
      "source": [
        "! head -n 1 data/glove_word_embeddings/glove.6B.50d.txt | cut -c-50 the 0.418 0.24968 -0.41242 0.1217 0.34527 -0.04445"
      ],
      "execution_count": 43,
      "outputs": [
        {
          "output_type": "stream",
          "text": [
            "cut: invalid option -- '0'\n",
            "Try 'cut --help' for more information.\n",
            "head: cannot open 'data/glove_word_embeddings/glove.6B.50d.txt' for reading: No such file or directory\n"
          ],
          "name": "stdout"
        }
      ]
    },
    {
      "cell_type": "code",
      "metadata": {
        "id": "Cw3leMVVEI6-"
      },
      "source": [
        ""
      ],
      "execution_count": null,
      "outputs": []
    }
  ]
}