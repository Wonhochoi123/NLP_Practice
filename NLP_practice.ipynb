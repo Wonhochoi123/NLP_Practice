{
  "nbformat": 4,
  "nbformat_minor": 0,
  "metadata": {
    "colab": {
      "name": "NLP practice.ipynb",
      "provenance": [],
      "authorship_tag": "ABX9TyO9HHA50937HQT8N2ev2R6C",
      "include_colab_link": true
    },
    "kernelspec": {
      "name": "python3",
      "display_name": "Python 3"
    },
    "language_info": {
      "name": "python"
    }
  },
  "cells": [
    {
      "cell_type": "markdown",
      "metadata": {
        "id": "view-in-github",
        "colab_type": "text"
      },
      "source": [
        "<a href=\"https://colab.research.google.com/github/Wonhochoi123/NLP_Practice/blob/main/NLP_practice.ipynb\" target=\"_parent\"><img src=\"https://colab.research.google.com/assets/colab-badge.svg\" alt=\"Open In Colab\"/></a>"
      ]
    },
    {
      "cell_type": "code",
      "metadata": {
        "colab": {
          "base_uri": "https://localhost:8080/"
        },
        "id": "8EI99jyHYmJC",
        "outputId": "40a764ea-0754-43d2-c985-086d9f5d289e"
      },
      "source": [
        "import pandas as pd\n",
        "\n",
        "filepath_dict = {'yelp':   '/content/yelp_labelled.txt',\n",
        "                 'amazon': '/content/amazon_cells_labelled.txt',\n",
        "                 'imdb':   '/content/imdb_labelled.txt'}\n",
        "df_list = []\n",
        "for source, filepath in filepath_dict.items():\n",
        "    df = pd.read_csv(filepath, names=['sentence', 'label'], sep='\\t')\n",
        "    df['source'] = source  # Add another column filled with the source name\n",
        "    df_list.append(df)\n",
        "\n",
        "df = pd.concat(df_list)\n",
        "print(df.iloc[0])"
      ],
      "execution_count": 1,
      "outputs": [
        {
          "output_type": "stream",
          "text": [
            "sentence    Wow... Loved this place.\n",
            "label                              1\n",
            "source                          yelp\n",
            "Name: 0, dtype: object\n"
          ],
          "name": "stdout"
        }
      ]
    },
    {
      "cell_type": "code",
      "metadata": {
        "colab": {
          "base_uri": "https://localhost:8080/",
          "height": 421
        },
        "id": "zmHnBQAyYvSm",
        "outputId": "32ec9209-90ec-45b6-8b79-ef477692ba20"
      },
      "source": [
        "df"
      ],
      "execution_count": 2,
      "outputs": [
        {
          "output_type": "execute_result",
          "data": {
            "text/html": [
              "<div>\n",
              "<style scoped>\n",
              "    .dataframe tbody tr th:only-of-type {\n",
              "        vertical-align: middle;\n",
              "    }\n",
              "\n",
              "    .dataframe tbody tr th {\n",
              "        vertical-align: top;\n",
              "    }\n",
              "\n",
              "    .dataframe thead th {\n",
              "        text-align: right;\n",
              "    }\n",
              "</style>\n",
              "<table border=\"1\" class=\"dataframe\">\n",
              "  <thead>\n",
              "    <tr style=\"text-align: right;\">\n",
              "      <th></th>\n",
              "      <th>sentence</th>\n",
              "      <th>label</th>\n",
              "      <th>source</th>\n",
              "    </tr>\n",
              "  </thead>\n",
              "  <tbody>\n",
              "    <tr>\n",
              "      <th>0</th>\n",
              "      <td>Wow... Loved this place.</td>\n",
              "      <td>1</td>\n",
              "      <td>yelp</td>\n",
              "    </tr>\n",
              "    <tr>\n",
              "      <th>1</th>\n",
              "      <td>Crust is not good.</td>\n",
              "      <td>0</td>\n",
              "      <td>yelp</td>\n",
              "    </tr>\n",
              "    <tr>\n",
              "      <th>2</th>\n",
              "      <td>Not tasty and the texture was just nasty.</td>\n",
              "      <td>0</td>\n",
              "      <td>yelp</td>\n",
              "    </tr>\n",
              "    <tr>\n",
              "      <th>3</th>\n",
              "      <td>Stopped by during the late May bank holiday of...</td>\n",
              "      <td>1</td>\n",
              "      <td>yelp</td>\n",
              "    </tr>\n",
              "    <tr>\n",
              "      <th>4</th>\n",
              "      <td>The selection on the menu was great and so wer...</td>\n",
              "      <td>1</td>\n",
              "      <td>yelp</td>\n",
              "    </tr>\n",
              "    <tr>\n",
              "      <th>...</th>\n",
              "      <td>...</td>\n",
              "      <td>...</td>\n",
              "      <td>...</td>\n",
              "    </tr>\n",
              "    <tr>\n",
              "      <th>743</th>\n",
              "      <td>I just got bored watching Jessice Lange take h...</td>\n",
              "      <td>0</td>\n",
              "      <td>imdb</td>\n",
              "    </tr>\n",
              "    <tr>\n",
              "      <th>744</th>\n",
              "      <td>Unfortunately, any virtue in this film's produ...</td>\n",
              "      <td>0</td>\n",
              "      <td>imdb</td>\n",
              "    </tr>\n",
              "    <tr>\n",
              "      <th>745</th>\n",
              "      <td>In a word, it is embarrassing.</td>\n",
              "      <td>0</td>\n",
              "      <td>imdb</td>\n",
              "    </tr>\n",
              "    <tr>\n",
              "      <th>746</th>\n",
              "      <td>Exceptionally bad!</td>\n",
              "      <td>0</td>\n",
              "      <td>imdb</td>\n",
              "    </tr>\n",
              "    <tr>\n",
              "      <th>747</th>\n",
              "      <td>All in all its an insult to one's intelligence...</td>\n",
              "      <td>0</td>\n",
              "      <td>imdb</td>\n",
              "    </tr>\n",
              "  </tbody>\n",
              "</table>\n",
              "<p>2748 rows × 3 columns</p>\n",
              "</div>"
            ],
            "text/plain": [
              "                                              sentence  label source\n",
              "0                             Wow... Loved this place.      1   yelp\n",
              "1                                   Crust is not good.      0   yelp\n",
              "2            Not tasty and the texture was just nasty.      0   yelp\n",
              "3    Stopped by during the late May bank holiday of...      1   yelp\n",
              "4    The selection on the menu was great and so wer...      1   yelp\n",
              "..                                                 ...    ...    ...\n",
              "743  I just got bored watching Jessice Lange take h...      0   imdb\n",
              "744  Unfortunately, any virtue in this film's produ...      0   imdb\n",
              "745                   In a word, it is embarrassing.        0   imdb\n",
              "746                               Exceptionally bad!        0   imdb\n",
              "747  All in all its an insult to one's intelligence...      0   imdb\n",
              "\n",
              "[2748 rows x 3 columns]"
            ]
          },
          "metadata": {
            "tags": []
          },
          "execution_count": 2
        }
      ]
    },
    {
      "cell_type": "code",
      "metadata": {
        "id": "HIvsjhb7ZfyM"
      },
      "source": [
        "sentences = ['John likes ice cream', 'John hates chocolate.']"
      ],
      "execution_count": 3,
      "outputs": []
    },
    {
      "cell_type": "code",
      "metadata": {
        "colab": {
          "base_uri": "https://localhost:8080/"
        },
        "id": "EH3GpWCOae78",
        "outputId": "5d889315-c4f5-423d-8f67-f2d02da08da3"
      },
      "source": [
        "from sklearn.feature_extraction.text import CountVectorizer\n",
        "\n",
        "vectorizer = CountVectorizer(min_df=0, lowercase=False)\n",
        "vectorizer.fit(sentences)\n",
        "vectorizer.vocabulary_"
      ],
      "execution_count": 4,
      "outputs": [
        {
          "output_type": "execute_result",
          "data": {
            "text/plain": [
              "{'John': 0, 'chocolate': 1, 'cream': 2, 'hates': 3, 'ice': 4, 'likes': 5}"
            ]
          },
          "metadata": {
            "tags": []
          },
          "execution_count": 4
        }
      ]
    },
    {
      "cell_type": "code",
      "metadata": {
        "colab": {
          "base_uri": "https://localhost:8080/"
        },
        "id": "v0gzUeMNalo8",
        "outputId": "a1647b66-c5bc-4af2-ea56-1d1dd63a136c"
      },
      "source": [
        "vectorizer.transform(sentences).toarray()"
      ],
      "execution_count": 5,
      "outputs": [
        {
          "output_type": "execute_result",
          "data": {
            "text/plain": [
              "array([[1, 0, 1, 0, 1, 1],\n",
              "       [1, 1, 0, 1, 0, 0]])"
            ]
          },
          "metadata": {
            "tags": []
          },
          "execution_count": 5
        }
      ]
    },
    {
      "cell_type": "code",
      "metadata": {
        "id": "mSudPNFbb-NM"
      },
      "source": [
        "from sklearn.model_selection import train_test_split\n",
        "\n",
        "df_yelp = df[df['source'] == 'yelp']\n",
        "\n",
        "sentences = df_yelp['sentence'].values\n",
        "y = df_yelp['label'].values\n",
        "\n",
        "sentences_train, sentences_test, y_train, y_test = train_test_split(sentences, y, test_size=0.25, random_state=1000)"
      ],
      "execution_count": 6,
      "outputs": []
    },
    {
      "cell_type": "code",
      "metadata": {
        "colab": {
          "base_uri": "https://localhost:8080/"
        },
        "id": "inT8Bf1EuJ7K",
        "outputId": "08b0d7c9-caae-4b6a-b403-28a8bacf6512"
      },
      "source": [
        "from sklearn.feature_extraction.text import CountVectorizer\n",
        "\n",
        "vectorizer = CountVectorizer()\n",
        "vectorizer.fit(sentences_train)\n",
        "\n",
        "X_train = vectorizer.transform(sentences_train)\n",
        "X_test  = vectorizer.transform(sentences_test)\n",
        "X_train"
      ],
      "execution_count": 7,
      "outputs": [
        {
          "output_type": "execute_result",
          "data": {
            "text/plain": [
              "<750x1714 sparse matrix of type '<class 'numpy.int64'>'\n",
              "\twith 7368 stored elements in Compressed Sparse Row format>"
            ]
          },
          "metadata": {
            "tags": []
          },
          "execution_count": 7
        }
      ]
    },
    {
      "cell_type": "code",
      "metadata": {
        "colab": {
          "base_uri": "https://localhost:8080/"
        },
        "id": "4SKgIUscuUpS",
        "outputId": "64e3cbae-1624-4dda-f307-0df34e97f79e"
      },
      "source": [
        "from sklearn.linear_model import LogisticRegression\n",
        "\n",
        "classifier = LogisticRegression()\n",
        "classifier.fit(X_train, y_train)\n",
        "score = classifier.score(X_test, y_test)\n",
        "\n",
        "print(\"Accuracy:\", score)"
      ],
      "execution_count": 8,
      "outputs": [
        {
          "output_type": "stream",
          "text": [
            "Accuracy: 0.796\n"
          ],
          "name": "stdout"
        }
      ]
    },
    {
      "cell_type": "code",
      "metadata": {
        "colab": {
          "base_uri": "https://localhost:8080/"
        },
        "id": "8aIukYs6uXKj",
        "outputId": "05ea5253-23f8-4fd4-f614-68e0f9afda50"
      },
      "source": [
        "for source in df['source'].unique():\n",
        "    df_source = df[df['source'] == source]\n",
        "    sentences = df_source['sentence'].values\n",
        "    y = df_source['label'].values\n",
        "\n",
        "    sentences_train, sentences_test, y_train, y_test = train_test_split(\n",
        "        sentences, y, test_size=0.25, random_state=1000)\n",
        "\n",
        "    vectorizer = CountVectorizer()\n",
        "    vectorizer.fit(sentences_train)\n",
        "    X_train = vectorizer.transform(sentences_train)\n",
        "    X_test  = vectorizer.transform(sentences_test)\n",
        "\n",
        "    classifier = LogisticRegression()\n",
        "    classifier.fit(X_train, y_train)\n",
        "    score = classifier.score(X_test, y_test)\n",
        "    print('Accuracy for {} data: {:.4f}'.format(source, score))"
      ],
      "execution_count": 9,
      "outputs": [
        {
          "output_type": "stream",
          "text": [
            "Accuracy for yelp data: 0.7960\n",
            "Accuracy for amazon data: 0.7960\n",
            "Accuracy for imdb data: 0.7487\n"
          ],
          "name": "stdout"
        }
      ]
    },
    {
      "cell_type": "code",
      "metadata": {
        "colab": {
          "base_uri": "https://localhost:8080/"
        },
        "id": "iOATFRM4yxJc",
        "outputId": "42a2a880-bfb1-494f-cf9b-8934e1308dc1"
      },
      "source": [
        "! pip install keras\n"
      ],
      "execution_count": 10,
      "outputs": [
        {
          "output_type": "stream",
          "text": [
            "Requirement already satisfied: keras in /usr/local/lib/python3.7/dist-packages (2.4.3)\n",
            "Requirement already satisfied: numpy>=1.9.1 in /usr/local/lib/python3.7/dist-packages (from keras) (1.19.5)\n",
            "Requirement already satisfied: scipy>=0.14 in /usr/local/lib/python3.7/dist-packages (from keras) (1.4.1)\n",
            "Requirement already satisfied: h5py in /usr/local/lib/python3.7/dist-packages (from keras) (3.1.0)\n",
            "Requirement already satisfied: pyyaml in /usr/local/lib/python3.7/dist-packages (from keras) (3.13)\n",
            "Requirement already satisfied: cached-property in /usr/local/lib/python3.7/dist-packages (from h5py->keras) (1.5.2)\n"
          ],
          "name": "stdout"
        }
      ]
    },
    {
      "cell_type": "code",
      "metadata": {
        "id": "0q3_yEwX9_Yg"
      },
      "source": [
        "from keras.models import Sequential\n",
        "from keras import layers\n",
        "\n",
        "input_dim = X_train.shape[1]  # Number of features\n",
        "\n",
        "model = Sequential()\n",
        "model.add(layers.Dense(10, input_dim=input_dim, activation='relu'))\n",
        "model.add(layers.Dense(1, activation='sigmoid'))"
      ],
      "execution_count": 11,
      "outputs": []
    },
    {
      "cell_type": "code",
      "metadata": {
        "colab": {
          "base_uri": "https://localhost:8080/"
        },
        "id": "kbcGbC7c-Koi",
        "outputId": "8af03f63-fe1e-480f-960f-db9eabde623b"
      },
      "source": [
        "model.compile(loss='binary_crossentropy', \n",
        "              optimizer='adam', \n",
        "             metrics=['accuracy'])\n",
        "model.summary()"
      ],
      "execution_count": 12,
      "outputs": [
        {
          "output_type": "stream",
          "text": [
            "Model: \"sequential\"\n",
            "_________________________________________________________________\n",
            "Layer (type)                 Output Shape              Param #   \n",
            "=================================================================\n",
            "dense (Dense)                (None, 10)                25060     \n",
            "_________________________________________________________________\n",
            "dense_1 (Dense)              (None, 1)                 11        \n",
            "=================================================================\n",
            "Total params: 25,071\n",
            "Trainable params: 25,071\n",
            "Non-trainable params: 0\n",
            "_________________________________________________________________\n"
          ],
          "name": "stdout"
        }
      ]
    },
    {
      "cell_type": "code",
      "metadata": {
        "colab": {
          "base_uri": "https://localhost:8080/"
        },
        "id": "zasUZZ1T-QJ7",
        "outputId": "ff32a691-3bdc-467a-ca81-20238f055b3d"
      },
      "source": [
        "history = model.fit(X_train, y_train,\n",
        "                     epochs=100,\n",
        "                     verbose=False,\n",
        "                     validation_data=(X_test, y_test)\n",
        "                     , batch_size=10)"
      ],
      "execution_count": 13,
      "outputs": [
        {
          "output_type": "stream",
          "text": [
            "/usr/local/lib/python3.7/dist-packages/tensorflow/python/framework/indexed_slices.py:449: UserWarning: Converting sparse IndexedSlices(IndexedSlices(indices=Tensor(\"gradient_tape/sequential/dense/embedding_lookup_sparse/Reshape_1:0\", shape=(None,), dtype=int32), values=Tensor(\"gradient_tape/sequential/dense/embedding_lookup_sparse/Reshape:0\", shape=(None, 10), dtype=float32), dense_shape=Tensor(\"gradient_tape/sequential/dense/embedding_lookup_sparse/Cast:0\", shape=(2,), dtype=int32))) to a dense Tensor of unknown shape. This may consume a large amount of memory.\n",
            "  \"shape. This may consume a large amount of memory.\" % value)\n"
          ],
          "name": "stderr"
        }
      ]
    },
    {
      "cell_type": "code",
      "metadata": {
        "id": "k3-hN_OS-T_8"
      },
      "source": [
        "from keras.backend import clear_session\n",
        "clear_session()"
      ],
      "execution_count": 15,
      "outputs": []
    },
    {
      "cell_type": "code",
      "metadata": {
        "colab": {
          "base_uri": "https://localhost:8080/"
        },
        "id": "beXpefoscSZ0",
        "outputId": "4c14b610-04d1-4aae-931c-fc3955b8ccd8"
      },
      "source": [
        "loss, accuracy = model.evaluate(X_train, y_train, verbose=False)\n",
        "print(\"Training Accuracy: {:.4f}\".format(accuracy))\n",
        "loss, accuracy = model.evaluate(X_test, y_test, verbose=False)\n",
        "print(\"Testing Accuracy:  {:.4f}\".format(accuracy))"
      ],
      "execution_count": 16,
      "outputs": [
        {
          "output_type": "stream",
          "text": [
            "Training Accuracy: 1.0000\n",
            "Testing Accuracy:  0.7968\n"
          ],
          "name": "stdout"
        }
      ]
    },
    {
      "cell_type": "code",
      "metadata": {
        "colab": {
          "base_uri": "https://localhost:8080/"
        },
        "id": "8uMFNBAycuNL",
        "outputId": "d203f059-8371-4e0c-feb0-913c3cecbf02"
      },
      "source": [
        "history.history"
      ],
      "execution_count": 19,
      "outputs": [
        {
          "output_type": "execute_result",
          "data": {
            "text/plain": [
              "{'accuracy': [0.5258467197418213,\n",
              "  0.8163992762565613,\n",
              "  0.9001782536506653,\n",
              "  0.9447415471076965,\n",
              "  0.9607843160629272,\n",
              "  0.9696969985961914,\n",
              "  0.9857397675514221,\n",
              "  0.9910873174667358,\n",
              "  0.9928698539733887,\n",
              "  0.9946523904800415,\n",
              "  0.9964349269866943,\n",
              "  0.9982174634933472,\n",
              "  0.9982174634933472,\n",
              "  0.9982174634933472,\n",
              "  0.9982174634933472,\n",
              "  0.9982174634933472,\n",
              "  0.9982174634933472,\n",
              "  0.9982174634933472,\n",
              "  0.9982174634933472,\n",
              "  0.9982174634933472,\n",
              "  0.9982174634933472,\n",
              "  0.9982174634933472,\n",
              "  0.9982174634933472,\n",
              "  0.9982174634933472,\n",
              "  1.0,\n",
              "  1.0,\n",
              "  1.0,\n",
              "  1.0,\n",
              "  1.0,\n",
              "  1.0,\n",
              "  1.0,\n",
              "  1.0,\n",
              "  1.0,\n",
              "  1.0,\n",
              "  1.0,\n",
              "  1.0,\n",
              "  1.0,\n",
              "  1.0,\n",
              "  1.0,\n",
              "  1.0,\n",
              "  1.0,\n",
              "  1.0,\n",
              "  1.0,\n",
              "  1.0,\n",
              "  1.0,\n",
              "  1.0,\n",
              "  1.0,\n",
              "  1.0,\n",
              "  1.0,\n",
              "  1.0,\n",
              "  1.0,\n",
              "  1.0,\n",
              "  1.0,\n",
              "  1.0,\n",
              "  1.0,\n",
              "  1.0,\n",
              "  1.0,\n",
              "  1.0,\n",
              "  1.0,\n",
              "  1.0,\n",
              "  1.0,\n",
              "  1.0,\n",
              "  1.0,\n",
              "  1.0,\n",
              "  1.0,\n",
              "  1.0,\n",
              "  1.0,\n",
              "  1.0,\n",
              "  1.0,\n",
              "  1.0,\n",
              "  1.0,\n",
              "  1.0,\n",
              "  1.0,\n",
              "  1.0,\n",
              "  1.0,\n",
              "  1.0,\n",
              "  1.0,\n",
              "  1.0,\n",
              "  1.0,\n",
              "  1.0,\n",
              "  1.0,\n",
              "  1.0,\n",
              "  1.0,\n",
              "  1.0,\n",
              "  1.0,\n",
              "  1.0,\n",
              "  1.0,\n",
              "  1.0,\n",
              "  1.0,\n",
              "  1.0,\n",
              "  1.0,\n",
              "  1.0,\n",
              "  1.0,\n",
              "  1.0,\n",
              "  1.0,\n",
              "  1.0,\n",
              "  1.0,\n",
              "  1.0,\n",
              "  1.0,\n",
              "  1.0],\n",
              " 'loss': [0.6937665939331055,\n",
              "  0.6350570321083069,\n",
              "  0.5635429620742798,\n",
              "  0.4663996696472168,\n",
              "  0.3733102083206177,\n",
              "  0.2965559661388397,\n",
              "  0.23875868320465088,\n",
              "  0.19486834108829498,\n",
              "  0.16169096529483795,\n",
              "  0.13567779958248138,\n",
              "  0.11539574712514877,\n",
              "  0.09903325140476227,\n",
              "  0.08550278097391129,\n",
              "  0.07449186593294144,\n",
              "  0.06527754664421082,\n",
              "  0.057763926684856415,\n",
              "  0.05151636153459549,\n",
              "  0.0458962544798851,\n",
              "  0.04124468192458153,\n",
              "  0.03691950440406799,\n",
              "  0.033557578921318054,\n",
              "  0.03054245188832283,\n",
              "  0.027684250846505165,\n",
              "  0.02533969283103943,\n",
              "  0.023144634440541267,\n",
              "  0.02124098129570484,\n",
              "  0.019530611112713814,\n",
              "  0.018017098307609558,\n",
              "  0.01660832017660141,\n",
              "  0.015369347296655178,\n",
              "  0.014293259009718895,\n",
              "  0.013208809308707714,\n",
              "  0.012286038137972355,\n",
              "  0.011491570621728897,\n",
              "  0.010631496086716652,\n",
              "  0.009927251376211643,\n",
              "  0.009268403053283691,\n",
              "  0.008713428862392902,\n",
              "  0.00816476158797741,\n",
              "  0.007664551958441734,\n",
              "  0.007221885025501251,\n",
              "  0.006802580785006285,\n",
              "  0.006390505935996771,\n",
              "  0.006031658034771681,\n",
              "  0.0056873527355492115,\n",
              "  0.005357562098652124,\n",
              "  0.0050713601522147655,\n",
              "  0.004781794268637896,\n",
              "  0.004530820529907942,\n",
              "  0.0042884168215096,\n",
              "  0.004073831718415022,\n",
              "  0.003861569333821535,\n",
              "  0.0036522482987493277,\n",
              "  0.0034696937073022127,\n",
              "  0.0032932113390415907,\n",
              "  0.0031301050912588835,\n",
              "  0.0029799488838762045,\n",
              "  0.002839740365743637,\n",
              "  0.0027082120068371296,\n",
              "  0.002578074811026454,\n",
              "  0.002458908362314105,\n",
              "  0.0023470143787562847,\n",
              "  0.002238484099507332,\n",
              "  0.0021418072283267975,\n",
              "  0.0020430812146514654,\n",
              "  0.0019553243182599545,\n",
              "  0.0018669628771021962,\n",
              "  0.0017881010426208377,\n",
              "  0.0017049142625182867,\n",
              "  0.001628961879760027,\n",
              "  0.0015601246850565076,\n",
              "  0.0014953694771975279,\n",
              "  0.0014353233855217695,\n",
              "  0.0013753416715189815,\n",
              "  0.0013193604536354542,\n",
              "  0.0012611920246854424,\n",
              "  0.001210837159305811,\n",
              "  0.0011602864833548665,\n",
              "  0.0011154980165883899,\n",
              "  0.001070551690645516,\n",
              "  0.0010272138752043247,\n",
              "  0.0009873065864667296,\n",
              "  0.0009470193181186914,\n",
              "  0.0009106359211727977,\n",
              "  0.0008758590556681156,\n",
              "  0.0008418785873800516,\n",
              "  0.000809741672128439,\n",
              "  0.0007795175188221037,\n",
              "  0.0007472162833437324,\n",
              "  0.0007204091525636613,\n",
              "  0.0006914004916325212,\n",
              "  0.0006661801598966122,\n",
              "  0.0006399996345862746,\n",
              "  0.0006183610530570149,\n",
              "  0.0005944061558693647,\n",
              "  0.0005724920192733407,\n",
              "  0.0005524205625988543,\n",
              "  0.0005311977583914995,\n",
              "  0.000511634221766144,\n",
              "  0.0004938699421472847],\n",
              " 'val_accuracy': [0.5935828685760498,\n",
              "  0.7112299203872681,\n",
              "  0.7165775299072266,\n",
              "  0.7540106773376465,\n",
              "  0.7754010558128357,\n",
              "  0.7700534462928772,\n",
              "  0.7754010558128357,\n",
              "  0.7860962748527527,\n",
              "  0.8021390438079834,\n",
              "  0.8128342032432556,\n",
              "  0.8021390438079834,\n",
              "  0.8128342032432556,\n",
              "  0.8181818127632141,\n",
              "  0.8181818127632141,\n",
              "  0.8128342032432556,\n",
              "  0.8128342032432556,\n",
              "  0.8074866533279419,\n",
              "  0.8021390438079834,\n",
              "  0.7967914342880249,\n",
              "  0.8074866533279419,\n",
              "  0.8021390438079834,\n",
              "  0.8021390438079834,\n",
              "  0.7967914342880249,\n",
              "  0.7967914342880249,\n",
              "  0.7967914342880249,\n",
              "  0.7967914342880249,\n",
              "  0.7967914342880249,\n",
              "  0.7967914342880249,\n",
              "  0.7967914342880249,\n",
              "  0.7967914342880249,\n",
              "  0.7914438247680664,\n",
              "  0.7967914342880249,\n",
              "  0.7914438247680664,\n",
              "  0.7914438247680664,\n",
              "  0.7914438247680664,\n",
              "  0.7914438247680664,\n",
              "  0.7860962748527527,\n",
              "  0.7860962748527527,\n",
              "  0.7860962748527527,\n",
              "  0.7860962748527527,\n",
              "  0.7860962748527527,\n",
              "  0.7860962748527527,\n",
              "  0.7860962748527527,\n",
              "  0.7807486653327942,\n",
              "  0.7807486653327942,\n",
              "  0.7807486653327942,\n",
              "  0.7807486653327942,\n",
              "  0.7807486653327942,\n",
              "  0.7807486653327942,\n",
              "  0.7807486653327942,\n",
              "  0.7807486653327942,\n",
              "  0.7807486653327942,\n",
              "  0.7807486653327942,\n",
              "  0.7807486653327942,\n",
              "  0.7807486653327942,\n",
              "  0.7860962748527527,\n",
              "  0.7860962748527527,\n",
              "  0.7860962748527527,\n",
              "  0.7860962748527527,\n",
              "  0.7860962748527527,\n",
              "  0.7860962748527527,\n",
              "  0.7860962748527527,\n",
              "  0.7914438247680664,\n",
              "  0.7914438247680664,\n",
              "  0.7914438247680664,\n",
              "  0.7914438247680664,\n",
              "  0.7967914342880249,\n",
              "  0.7914438247680664,\n",
              "  0.7967914342880249,\n",
              "  0.7914438247680664,\n",
              "  0.7914438247680664,\n",
              "  0.7967914342880249,\n",
              "  0.7967914342880249,\n",
              "  0.7967914342880249,\n",
              "  0.7967914342880249,\n",
              "  0.7914438247680664,\n",
              "  0.7967914342880249,\n",
              "  0.7967914342880249,\n",
              "  0.7967914342880249,\n",
              "  0.7967914342880249,\n",
              "  0.7967914342880249,\n",
              "  0.7967914342880249,\n",
              "  0.7967914342880249,\n",
              "  0.7967914342880249,\n",
              "  0.7967914342880249,\n",
              "  0.7967914342880249,\n",
              "  0.7967914342880249,\n",
              "  0.7967914342880249,\n",
              "  0.7967914342880249,\n",
              "  0.7967914342880249,\n",
              "  0.7967914342880249,\n",
              "  0.7967914342880249,\n",
              "  0.7967914342880249,\n",
              "  0.7967914342880249,\n",
              "  0.7967914342880249,\n",
              "  0.7967914342880249,\n",
              "  0.7967914342880249,\n",
              "  0.7967914342880249,\n",
              "  0.7967914342880249,\n",
              "  0.7967914342880249],\n",
              " 'val_loss': [0.6953722238540649,\n",
              "  0.6543813943862915,\n",
              "  0.6665658950805664,\n",
              "  0.6069497466087341,\n",
              "  0.5888664722442627,\n",
              "  0.5670753717422485,\n",
              "  0.5482298731803894,\n",
              "  0.5160871148109436,\n",
              "  0.503852128982544,\n",
              "  0.5489979982376099,\n",
              "  0.5337579250335693,\n",
              "  0.5291345715522766,\n",
              "  0.5215744972229004,\n",
              "  0.515242874622345,\n",
              "  0.5123106837272644,\n",
              "  0.5359219312667847,\n",
              "  0.5566385984420776,\n",
              "  0.5538793802261353,\n",
              "  0.5745465755462646,\n",
              "  0.5478084683418274,\n",
              "  0.5652100443840027,\n",
              "  0.5889571905136108,\n",
              "  0.5862277150154114,\n",
              "  0.5964255332946777,\n",
              "  0.6062061190605164,\n",
              "  0.6053064465522766,\n",
              "  0.6094026565551758,\n",
              "  0.6213153600692749,\n",
              "  0.6337056756019592,\n",
              "  0.6316384077072144,\n",
              "  0.631416380405426,\n",
              "  0.6479513049125671,\n",
              "  0.6470627784729004,\n",
              "  0.6573904752731323,\n",
              "  0.6653783321380615,\n",
              "  0.682086169719696,\n",
              "  0.6867403984069824,\n",
              "  0.6975626349449158,\n",
              "  0.7010803818702698,\n",
              "  0.7108055353164673,\n",
              "  0.7199905514717102,\n",
              "  0.7262676954269409,\n",
              "  0.7212915420532227,\n",
              "  0.7356372475624084,\n",
              "  0.7462301850318909,\n",
              "  0.7624380588531494,\n",
              "  0.76340252161026,\n",
              "  0.7687196731567383,\n",
              "  0.7766574025154114,\n",
              "  0.7802491784095764,\n",
              "  0.7974725961685181,\n",
              "  0.7944104075431824,\n",
              "  0.7924275398254395,\n",
              "  0.7903913259506226,\n",
              "  0.805837869644165,\n",
              "  0.8124749660491943,\n",
              "  0.8186585307121277,\n",
              "  0.8205915093421936,\n",
              "  0.8140556812286377,\n",
              "  0.8283421397209167,\n",
              "  0.8388397097587585,\n",
              "  0.8421396613121033,\n",
              "  0.8479288816452026,\n",
              "  0.8566551208496094,\n",
              "  0.8589895963668823,\n",
              "  0.8643693327903748,\n",
              "  0.8725900650024414,\n",
              "  0.8854354619979858,\n",
              "  0.8956661224365234,\n",
              "  0.8913295269012451,\n",
              "  0.8981832265853882,\n",
              "  0.9016725420951843,\n",
              "  0.9267657995223999,\n",
              "  0.9215470552444458,\n",
              "  0.9266245365142822,\n",
              "  0.9279993176460266,\n",
              "  0.9337335824966431,\n",
              "  0.9373951554298401,\n",
              "  0.9399903416633606,\n",
              "  0.9508548378944397,\n",
              "  0.9529091119766235,\n",
              "  0.9550076127052307,\n",
              "  0.9607962369918823,\n",
              "  0.9673070907592773,\n",
              "  0.9699239730834961,\n",
              "  0.9789499640464783,\n",
              "  0.9887239336967468,\n",
              "  0.9988088607788086,\n",
              "  0.993584394454956,\n",
              "  1.0053359270095825,\n",
              "  1.0056179761886597,\n",
              "  1.0113866329193115,\n",
              "  1.016972303390503,\n",
              "  1.0264514684677124,\n",
              "  1.0272321701049805,\n",
              "  1.0304194688796997,\n",
              "  1.032670259475708,\n",
              "  1.0388274192810059,\n",
              "  1.0466489791870117,\n",
              "  1.0522490739822388]}"
            ]
          },
          "metadata": {
            "tags": []
          },
          "execution_count": 19
        }
      ]
    },
    {
      "cell_type": "code",
      "metadata": {
        "id": "5SDS6uLHcf89"
      },
      "source": [
        "import matplotlib.pyplot as plt\n",
        "plt.style.use('ggplot')\n",
        "\n",
        "def plot_history(history):\n",
        "    acc = history.history['accuracy']\n",
        "    val_acc = history.history['val_accuracy']\n",
        "    loss = history.history['loss']\n",
        "    val_loss = history.history['val_loss']\n",
        "    x = range(1, len(acc) + 1)\n",
        "\n",
        "    plt.figure(figsize=(12, 5))\n",
        "    plt.subplot(1, 2, 1)\n",
        "    plt.plot(x, acc, 'b', label='Training acc')\n",
        "    plt.plot(x, val_acc, 'r', label='Validation acc')\n",
        "    plt.title('Training and validation accuracy')\n",
        "    plt.legend()\n",
        "    plt.subplot(1, 2, 2)\n",
        "    plt.plot(x, loss, 'b', label='Training loss')\n",
        "    plt.plot(x, val_loss, 'r', label='Validation loss')\n",
        "    plt.title('Training and validation loss')\n",
        "    plt.legend()"
      ],
      "execution_count": 20,
      "outputs": []
    },
    {
      "cell_type": "code",
      "metadata": {
        "colab": {
          "base_uri": "https://localhost:8080/",
          "height": 337
        },
        "id": "BYs2p4sHcjpV",
        "outputId": "2858a080-c980-469f-85ac-2d1aa048ece3"
      },
      "source": [
        "plot_history(history)\n"
      ],
      "execution_count": 21,
      "outputs": [
        {
          "output_type": "display_data",
          "data": {
            "image/png": "[encoded data removed]",
            "text/plain": [
              "<Figure size 864x360 with 2 Axes>"
            ]
          },
          "metadata": {
            "tags": []
          }
        }
      ]
    },
    {
      "cell_type": "code",
      "metadata": {
        "id": "JR8h4yqCcl0d"
      },
      "source": [
        ""
      ],
      "execution_count": null,
      "outputs": []
    }
  ]
}